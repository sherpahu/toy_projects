{
 "cells": [
  {
   "cell_type": "code",
   "execution_count": 1,
   "id": "a45266da",
   "metadata": {},
   "outputs": [
    {
     "name": "stderr",
     "output_type": "stream",
     "text": [
      "C:\\Users\\gz\\miniconda3\\envs\\torch_gpu\\lib\\site-packages\\tqdm\\auto.py:22: TqdmWarning: IProgress not found. Please update jupyter and ipywidgets. See https://ipywidgets.readthedocs.io/en/stable/user_install.html\n",
      "  from .autonotebook import tqdm as notebook_tqdm\n"
     ]
    }
   ],
   "source": [
    "import torch\n",
    "import torch.nn as nn\n",
    "import torch.nn.functional as F\n",
    "import torch.optim as optim\n",
    "import torch.utils.data as Data\n",
    "\n",
    "import time, json, datetime \n",
    "from tqdm import tqdm\n",
    "\n",
    "import numpy as np \n",
    "import pandas as pd \n",
    "from sklearn.metrics import log_loss, roc_auc_score\n",
    "from sklearn.model_selection import train_test_split\n",
    "from sklearn.preprocessing import LabelEncoder\n",
    "\n",
    "pd.set_option('display.max_rows', 500)\n",
    "pd.set_option('display.max_columns', 500)"
   ]
  },
  {
   "cell_type": "code",
   "execution_count": 2,
   "id": "7700b925",
   "metadata": {},
   "outputs": [],
   "source": [
    "class DeepFM(nn.Module):\n",
    "    def __init__(self, cate_fea_nuniqs, nume_fea_size=0, emb_size=8, \n",
    "                 hid_dims=[256, 128], num_classes=1, dropout=[0.2, 0.2]): \n",
    "        \"\"\"\n",
    "        cate_fea_nuniqs: 类别特征的唯一值个数列表，也就是每个类别特征的vocab_size所组成的列表\n",
    "        nume_fea_size: 数值特征的个数，该模型会考虑到输入全为类别型，即没有数值特征的情况 \n",
    "        \"\"\"\n",
    "        super().__init__()\n",
    "        self.cate_fea_size = len(cate_fea_nuniqs)\n",
    "        self.nume_fea_size = nume_fea_size\n",
    "        \n",
    "        \"\"\"FM部分\"\"\"\n",
    "        # 一阶\n",
    "        if self.nume_fea_size != 0:\n",
    "            self.fm_1st_order_dense = nn.Linear(self.nume_fea_size, 1)  # 数值特征的一阶表示\n",
    "        self.fm_1st_order_sparse_emb = nn.ModuleList([\n",
    "            nn.Embedding(voc_size, 1) for voc_size in cate_fea_nuniqs])  # 类别特征的一阶表示\n",
    "        \n",
    "        # 二阶\n",
    "        self.fm_2nd_order_sparse_emb = nn.ModuleList([\n",
    "            nn.Embedding(voc_size, emb_size) for voc_size in cate_fea_nuniqs])  # 类别特征的二阶表示\n",
    "        \n",
    "        \"\"\"DNN部分\"\"\"\n",
    "        self.all_dims = [self.cate_fea_size * emb_size] + hid_dims\n",
    "        self.dense_linear = nn.Linear(self.nume_fea_size, self.cate_fea_size * emb_size)  # 数值特征的维度变换到FM输出维度一致\n",
    "        self.relu = nn.ReLU()\n",
    "        # for DNN \n",
    "        for i in range(1, len(self.all_dims)):\n",
    "            setattr(self, 'linear_'+str(i), nn.Linear(self.all_dims[i-1], self.all_dims[i]))\n",
    "            setattr(self, 'batchNorm_' + str(i), nn.BatchNorm1d(self.all_dims[i]))\n",
    "            setattr(self, 'activation_' + str(i), nn.ReLU())\n",
    "            setattr(self, 'dropout_'+str(i), nn.Dropout(dropout[i-1]))\n",
    "        # for output \n",
    "        self.dnn_linear = nn.Linear(hid_dims[-1], num_classes)\n",
    "        self.sigmoid = nn.Sigmoid()\n",
    "        \n",
    "    def forward(self, X_sparse, X_dense=None):\n",
    "        \"\"\"\n",
    "        X_sparse: 类别型特征输入  [bs, cate_fea_size]\n",
    "        X_dense: 数值型特征输入（可能没有）  [bs, dense_fea_size]\n",
    "        \"\"\"\n",
    "        \n",
    "        \"\"\"FM 一阶部分\"\"\"\n",
    "        fm_1st_sparse_res = [emb(X_sparse[:, i].unsqueeze(1)).view(-1, 1) \n",
    "                             for i, emb in enumerate(self.fm_1st_order_sparse_emb)]\n",
    "        fm_1st_sparse_res = torch.cat(fm_1st_sparse_res, dim=1)  # [bs, cate_fea_size]\n",
    "        fm_1st_sparse_res = torch.sum(fm_1st_sparse_res, 1,  keepdim=True)  # [bs, 1]\n",
    "        \n",
    "        if X_dense is not None:\n",
    "            fm_1st_dense_res = self.fm_1st_order_dense(X_dense) \n",
    "            fm_1st_part = fm_1st_sparse_res + fm_1st_dense_res\n",
    "        else:\n",
    "            fm_1st_part = fm_1st_sparse_res   # [bs, 1]\n",
    "        \n",
    "        \"\"\"FM 二阶部分\"\"\"\n",
    "        fm_2nd_order_res = [emb(X_sparse[:, i].unsqueeze(1)) for i, emb in enumerate(self.fm_2nd_order_sparse_emb)]\n",
    "        fm_2nd_concat_1d = torch.cat(fm_2nd_order_res, dim=1)  # [bs, n, emb_size]  n为类别型特征个数(cate_fea_size)\n",
    "        \n",
    "        # 先求和再平方\n",
    "        sum_embed = torch.sum(fm_2nd_concat_1d, 1)  # [bs, emb_size]\n",
    "        square_sum_embed = sum_embed * sum_embed    # [bs, emb_size]\n",
    "        # 先平方再求和\n",
    "        square_embed = fm_2nd_concat_1d * fm_2nd_concat_1d  # [bs, n, emb_size]\n",
    "        sum_square_embed = torch.sum(square_embed, 1)  # [bs, emb_size]\n",
    "        # 相减除以2 \n",
    "        sub = square_sum_embed - sum_square_embed  \n",
    "        sub = sub * 0.5   # [bs, emb_size]\n",
    "        \n",
    "        fm_2nd_part = torch.sum(sub, 1, keepdim=True)   # [bs, 1]\n",
    "        \n",
    "        \"\"\"DNN部分\"\"\"\n",
    "        dnn_out = torch.flatten(fm_2nd_concat_1d, 1)   # [bs, n * emb_size]\n",
    "        \n",
    "        if X_dense is not None:\n",
    "            dense_out = self.relu(self.dense_linear(X_dense))   # [bs, n * emb_size]\n",
    "            dnn_out = dnn_out + dense_out   # [bs, n * emb_size]\n",
    "        \n",
    "        for i in range(1, len(self.all_dims)):\n",
    "            dnn_out = getattr(self, 'linear_' + str(i))(dnn_out)\n",
    "            dnn_out = getattr(self, 'batchNorm_' + str(i))(dnn_out)\n",
    "            dnn_out = getattr(self, 'activation_' + str(i))(dnn_out)\n",
    "            dnn_out = getattr(self, 'dropout_' + str(i))(dnn_out)\n",
    "        \n",
    "        dnn_out = self.dnn_linear(dnn_out)   # [bs, 1]\n",
    "        out = fm_1st_part + fm_2nd_part + dnn_out   # [bs, 1]\n",
    "        out = self.sigmoid(out)\n",
    "        return out"
   ]
  },
  {
   "cell_type": "code",
   "execution_count": 3,
   "id": "2db206ef",
   "metadata": {},
   "outputs": [
    {
     "name": "stderr",
     "output_type": "stream",
     "text": [
      "100%|██████████████████████████████████████████████████████████████████████████████████| 26/26 [00:04<00:00,  5.43it/s]\n",
      "100%|██████████████████████████████████████████████████████████████████████████████████| 13/13 [00:00<00:00, 80.52it/s]"
     ]
    },
    {
     "name": "stdout",
     "output_type": "stream",
     "text": [
      "(500000, 40)\n"
     ]
    },
    {
     "name": "stderr",
     "output_type": "stream",
     "text": [
      "\n"
     ]
    },
    {
     "data": {
      "text/html": [
       "<div>\n",
       "<style scoped>\n",
       "    .dataframe tbody tr th:only-of-type {\n",
       "        vertical-align: middle;\n",
       "    }\n",
       "\n",
       "    .dataframe tbody tr th {\n",
       "        vertical-align: top;\n",
       "    }\n",
       "\n",
       "    .dataframe thead th {\n",
       "        text-align: right;\n",
       "    }\n",
       "</style>\n",
       "<table border=\"1\" class=\"dataframe\">\n",
       "  <thead>\n",
       "    <tr style=\"text-align: right;\">\n",
       "      <th></th>\n",
       "      <th>label</th>\n",
       "      <th>I1</th>\n",
       "      <th>I2</th>\n",
       "      <th>I3</th>\n",
       "      <th>I4</th>\n",
       "      <th>I5</th>\n",
       "      <th>I6</th>\n",
       "      <th>I7</th>\n",
       "      <th>I8</th>\n",
       "      <th>I9</th>\n",
       "      <th>I10</th>\n",
       "      <th>I11</th>\n",
       "      <th>I12</th>\n",
       "      <th>I13</th>\n",
       "      <th>C1</th>\n",
       "      <th>C2</th>\n",
       "      <th>C3</th>\n",
       "      <th>C4</th>\n",
       "      <th>C5</th>\n",
       "      <th>C6</th>\n",
       "      <th>C7</th>\n",
       "      <th>C8</th>\n",
       "      <th>C9</th>\n",
       "      <th>C10</th>\n",
       "      <th>C11</th>\n",
       "      <th>C12</th>\n",
       "      <th>C13</th>\n",
       "      <th>C14</th>\n",
       "      <th>C15</th>\n",
       "      <th>C16</th>\n",
       "      <th>C17</th>\n",
       "      <th>C18</th>\n",
       "      <th>C19</th>\n",
       "      <th>C20</th>\n",
       "      <th>C21</th>\n",
       "      <th>C22</th>\n",
       "      <th>C23</th>\n",
       "      <th>C24</th>\n",
       "      <th>C25</th>\n",
       "      <th>C26</th>\n",
       "    </tr>\n",
       "  </thead>\n",
       "  <tbody>\n",
       "    <tr>\n",
       "      <th>0</th>\n",
       "      <td>1</td>\n",
       "      <td>-0.126477</td>\n",
       "      <td>-0.192994</td>\n",
       "      <td>0.034824</td>\n",
       "      <td>0.348693</td>\n",
       "      <td>-0.271948</td>\n",
       "      <td>-0.178906</td>\n",
       "      <td>0.128171</td>\n",
       "      <td>-0.162472</td>\n",
       "      <td>-0.366616</td>\n",
       "      <td>1.134878</td>\n",
       "      <td>1.126624</td>\n",
       "      <td>-0.065908</td>\n",
       "      <td>0.052830</td>\n",
       "      <td>20</td>\n",
       "      <td>10</td>\n",
       "      <td>103950</td>\n",
       "      <td>48164</td>\n",
       "      <td>37</td>\n",
       "      <td>6</td>\n",
       "      <td>3796</td>\n",
       "      <td>18</td>\n",
       "      <td>2</td>\n",
       "      <td>21865</td>\n",
       "      <td>1153</td>\n",
       "      <td>80900</td>\n",
       "      <td>1490</td>\n",
       "      <td>17</td>\n",
       "      <td>3238</td>\n",
       "      <td>16400</td>\n",
       "      <td>9</td>\n",
       "      <td>1541</td>\n",
       "      <td>0</td>\n",
       "      <td>0</td>\n",
       "      <td>43790</td>\n",
       "      <td>0</td>\n",
       "      <td>4</td>\n",
       "      <td>25283</td>\n",
       "      <td>0</td>\n",
       "      <td>0</td>\n",
       "    </tr>\n",
       "    <tr>\n",
       "      <th>1</th>\n",
       "      <td>0</td>\n",
       "      <td>-0.265558</td>\n",
       "      <td>-0.269791</td>\n",
       "      <td>-0.037431</td>\n",
       "      <td>-0.140858</td>\n",
       "      <td>-0.220993</td>\n",
       "      <td>-0.174621</td>\n",
       "      <td>1.157833</td>\n",
       "      <td>-0.162472</td>\n",
       "      <td>0.264282</td>\n",
       "      <td>-0.554643</td>\n",
       "      <td>2.349247</td>\n",
       "      <td>-0.065908</td>\n",
       "      <td>-0.050398</td>\n",
       "      <td>20</td>\n",
       "      <td>249</td>\n",
       "      <td>108293</td>\n",
       "      <td>58867</td>\n",
       "      <td>37</td>\n",
       "      <td>13</td>\n",
       "      <td>4961</td>\n",
       "      <td>165</td>\n",
       "      <td>2</td>\n",
       "      <td>15314</td>\n",
       "      <td>653</td>\n",
       "      <td>111841</td>\n",
       "      <td>2637</td>\n",
       "      <td>2</td>\n",
       "      <td>680</td>\n",
       "      <td>108006</td>\n",
       "      <td>9</td>\n",
       "      <td>3188</td>\n",
       "      <td>212</td>\n",
       "      <td>2</td>\n",
       "      <td>13014</td>\n",
       "      <td>0</td>\n",
       "      <td>4</td>\n",
       "      <td>7205</td>\n",
       "      <td>54</td>\n",
       "      <td>16624</td>\n",
       "    </tr>\n",
       "    <tr>\n",
       "      <th>2</th>\n",
       "      <td>0</td>\n",
       "      <td>-0.265558</td>\n",
       "      <td>-0.263883</td>\n",
       "      <td>-0.014206</td>\n",
       "      <td>-0.263245</td>\n",
       "      <td>-0.205647</td>\n",
       "      <td>-0.163907</td>\n",
       "      <td>-0.215049</td>\n",
       "      <td>-0.263167</td>\n",
       "      <td>-0.424784</td>\n",
       "      <td>-0.554643</td>\n",
       "      <td>-0.299769</td>\n",
       "      <td>-0.065908</td>\n",
       "      <td>-0.076205</td>\n",
       "      <td>383</td>\n",
       "      <td>168</td>\n",
       "      <td>109278</td>\n",
       "      <td>43314</td>\n",
       "      <td>37</td>\n",
       "      <td>13</td>\n",
       "      <td>3938</td>\n",
       "      <td>18</td>\n",
       "      <td>2</td>\n",
       "      <td>9543</td>\n",
       "      <td>1653</td>\n",
       "      <td>140994</td>\n",
       "      <td>1664</td>\n",
       "      <td>2</td>\n",
       "      <td>6812</td>\n",
       "      <td>97195</td>\n",
       "      <td>0</td>\n",
       "      <td>1727</td>\n",
       "      <td>1037</td>\n",
       "      <td>2</td>\n",
       "      <td>73724</td>\n",
       "      <td>0</td>\n",
       "      <td>2</td>\n",
       "      <td>7205</td>\n",
       "      <td>1</td>\n",
       "      <td>6343</td>\n",
       "    </tr>\n",
       "    <tr>\n",
       "      <th>3</th>\n",
       "      <td>0</td>\n",
       "      <td>-0.265558</td>\n",
       "      <td>-0.184132</td>\n",
       "      <td>-0.045172</td>\n",
       "      <td>-0.630409</td>\n",
       "      <td>-0.103523</td>\n",
       "      <td>-0.091052</td>\n",
       "      <td>-0.197888</td>\n",
       "      <td>-0.187645</td>\n",
       "      <td>-0.268178</td>\n",
       "      <td>-0.554643</td>\n",
       "      <td>-0.299769</td>\n",
       "      <td>-0.065908</td>\n",
       "      <td>-0.153627</td>\n",
       "      <td>760</td>\n",
       "      <td>312</td>\n",
       "      <td>84271</td>\n",
       "      <td>68069</td>\n",
       "      <td>160</td>\n",
       "      <td>6</td>\n",
       "      <td>9868</td>\n",
       "      <td>18</td>\n",
       "      <td>2</td>\n",
       "      <td>12169</td>\n",
       "      <td>165</td>\n",
       "      <td>39480</td>\n",
       "      <td>2762</td>\n",
       "      <td>5</td>\n",
       "      <td>1778</td>\n",
       "      <td>78532</td>\n",
       "      <td>0</td>\n",
       "      <td>1371</td>\n",
       "      <td>0</td>\n",
       "      <td>0</td>\n",
       "      <td>35768</td>\n",
       "      <td>0</td>\n",
       "      <td>3</td>\n",
       "      <td>15271</td>\n",
       "      <td>0</td>\n",
       "      <td>0</td>\n",
       "    </tr>\n",
       "    <tr>\n",
       "      <th>4</th>\n",
       "      <td>0</td>\n",
       "      <td>0.151685</td>\n",
       "      <td>-0.269791</td>\n",
       "      <td>-0.042592</td>\n",
       "      <td>-0.385633</td>\n",
       "      <td>-0.257790</td>\n",
       "      <td>-0.146764</td>\n",
       "      <td>-0.197888</td>\n",
       "      <td>0.038919</td>\n",
       "      <td>-0.388988</td>\n",
       "      <td>1.134878</td>\n",
       "      <td>-0.299769</td>\n",
       "      <td>-0.065908</td>\n",
       "      <td>-0.102013</td>\n",
       "      <td>760</td>\n",
       "      <td>451</td>\n",
       "      <td>17999</td>\n",
       "      <td>16618</td>\n",
       "      <td>37</td>\n",
       "      <td>6</td>\n",
       "      <td>4309</td>\n",
       "      <td>410</td>\n",
       "      <td>2</td>\n",
       "      <td>5368</td>\n",
       "      <td>231</td>\n",
       "      <td>11597</td>\n",
       "      <td>738</td>\n",
       "      <td>2</td>\n",
       "      <td>768</td>\n",
       "      <td>105445</td>\n",
       "      <td>5</td>\n",
       "      <td>217</td>\n",
       "      <td>242</td>\n",
       "      <td>2</td>\n",
       "      <td>116420</td>\n",
       "      <td>0</td>\n",
       "      <td>2</td>\n",
       "      <td>19260</td>\n",
       "      <td>36</td>\n",
       "      <td>4586</td>\n",
       "    </tr>\n",
       "  </tbody>\n",
       "</table>\n",
       "</div>"
      ],
      "text/plain": [
       "   label        I1        I2        I3        I4        I5        I6  \\\n",
       "0      1 -0.126477 -0.192994  0.034824  0.348693 -0.271948 -0.178906   \n",
       "1      0 -0.265558 -0.269791 -0.037431 -0.140858 -0.220993 -0.174621   \n",
       "2      0 -0.265558 -0.263883 -0.014206 -0.263245 -0.205647 -0.163907   \n",
       "3      0 -0.265558 -0.184132 -0.045172 -0.630409 -0.103523 -0.091052   \n",
       "4      0  0.151685 -0.269791 -0.042592 -0.385633 -0.257790 -0.146764   \n",
       "\n",
       "         I7        I8        I9       I10       I11       I12       I13   C1  \\\n",
       "0  0.128171 -0.162472 -0.366616  1.134878  1.126624 -0.065908  0.052830   20   \n",
       "1  1.157833 -0.162472  0.264282 -0.554643  2.349247 -0.065908 -0.050398   20   \n",
       "2 -0.215049 -0.263167 -0.424784 -0.554643 -0.299769 -0.065908 -0.076205  383   \n",
       "3 -0.197888 -0.187645 -0.268178 -0.554643 -0.299769 -0.065908 -0.153627  760   \n",
       "4 -0.197888  0.038919 -0.388988  1.134878 -0.299769 -0.065908 -0.102013  760   \n",
       "\n",
       "    C2      C3     C4   C5  C6    C7   C8  C9    C10   C11     C12   C13  C14  \\\n",
       "0   10  103950  48164   37   6  3796   18   2  21865  1153   80900  1490   17   \n",
       "1  249  108293  58867   37  13  4961  165   2  15314   653  111841  2637    2   \n",
       "2  168  109278  43314   37  13  3938   18   2   9543  1653  140994  1664    2   \n",
       "3  312   84271  68069  160   6  9868   18   2  12169   165   39480  2762    5   \n",
       "4  451   17999  16618   37   6  4309  410   2   5368   231   11597   738    2   \n",
       "\n",
       "    C15     C16  C17   C18   C19  C20     C21  C22  C23    C24  C25    C26  \n",
       "0  3238   16400    9  1541     0    0   43790    0    4  25283    0      0  \n",
       "1   680  108006    9  3188   212    2   13014    0    4   7205   54  16624  \n",
       "2  6812   97195    0  1727  1037    2   73724    0    2   7205    1   6343  \n",
       "3  1778   78532    0  1371     0    0   35768    0    3  15271    0      0  \n",
       "4   768  105445    5   217   242    2  116420    0    2  19260   36   4586  "
      ]
     },
     "execution_count": 3,
     "metadata": {},
     "output_type": "execute_result"
    }
   ],
   "source": [
    "data = pd.read_csv(\"criteo_sample_50w.csv\")\n",
    "\n",
    "dense_features = [f for f in data.columns.tolist() if f[0] == \"I\"]\n",
    "sparse_features = [f for f in data.columns.tolist() if f[0] == \"C\"]\n",
    "\n",
    "data[sparse_features] = data[sparse_features].fillna('-10086', )\n",
    "data[dense_features] = data[dense_features].fillna(0, )\n",
    "target = ['label']\n",
    "\n",
    "## 类别特征labelencoder\n",
    "for feat in tqdm(sparse_features):\n",
    "    lbe = LabelEncoder()\n",
    "    data[feat] = lbe.fit_transform(data[feat])\n",
    "\n",
    "## 数值特征标准化\n",
    "for feat in tqdm(dense_features):\n",
    "    mean = data[feat].mean()\n",
    "    std = data[feat].std()\n",
    "    data[feat] = (data[feat] - mean) / (std + 1e-12)   # 防止除零\n",
    "\n",
    "print(data.shape)\n",
    "data.head()"
   ]
  },
  {
   "cell_type": "code",
   "execution_count": 4,
   "id": "a0f0903d",
   "metadata": {},
   "outputs": [
    {
     "name": "stdout",
     "output_type": "stream",
     "text": [
      "(400000, 40) (100000, 40)\n",
      "cuda\n",
      "{'Total': 7037251, 'Trainable': 7037251}\n"
     ]
    }
   ],
   "source": [
    "train, valid = train_test_split(data, test_size=0.2, random_state=2020)\n",
    "print(train.shape, valid.shape)\n",
    "\n",
    "train_dataset = Data.TensorDataset(torch.LongTensor(train[sparse_features].values), \n",
    "                                   torch.FloatTensor(train[dense_features].values),\n",
    "                                   torch.FloatTensor(train['label'].values),)\n",
    "\n",
    "train_loader = Data.DataLoader(dataset=train_dataset, batch_size=2048, shuffle=True)\n",
    "\n",
    "valid_dataset = Data.TensorDataset(torch.LongTensor(valid[sparse_features].values), \n",
    "                                   torch.FloatTensor(valid[dense_features].values),\n",
    "                                   torch.FloatTensor(valid['label'].values),)\n",
    "valid_loader = Data.DataLoader(dataset=valid_dataset, batch_size=4096, shuffle=False)\n",
    "\n",
    "\n",
    "device = torch.device('cuda') if torch.cuda.is_available() else torch.device('cpu')\n",
    "print(device)\n",
    "cate_fea_nuniqs = [data[f].nunique() for f in sparse_features]\n",
    "model = DeepFM(cate_fea_nuniqs, nume_fea_size=len(dense_features))\n",
    "model.to(device)\n",
    "loss_fcn = nn.BCELoss()  # Loss函数\n",
    "loss_fcn = loss_fcn.to(device)\n",
    "optimizer = optim.Adam(model.parameters(), lr=0.005, weight_decay=0.001) \n",
    "scheduler = torch.optim.lr_scheduler.StepLR(optimizer, step_size=1, gamma=0.8)\n",
    "\n",
    "# 打印模型参数\n",
    "def get_parameter_number(model):\n",
    "    total_num = sum(p.numel() for p in model.parameters())\n",
    "    trainable_num = sum(p.numel() for p in model.parameters() if p.requires_grad)\n",
    "    return {'Total': total_num, 'Trainable': trainable_num}\n",
    "print(get_parameter_number(model))\n",
    "\n",
    "# 定义日志（data文件夹下，同级目录新建一个data文件夹）\n",
    "def write_log(w):\n",
    "    file_name = 'data/' + datetime.date.today().strftime('%m%d')+\"_{}.log\".format(\"deepfm\")\n",
    "    t0 = datetime.datetime.now().strftime('%H:%M:%S')\n",
    "    info = \"{} : {}\".format(t0, w)\n",
    "    print(info)\n",
    "    with open(file_name, 'a') as f: \n",
    "        f.write(info + '\\n') "
   ]
  },
  {
   "cell_type": "code",
   "execution_count": 6,
   "id": "28017a08",
   "metadata": {},
   "outputs": [
    {
     "name": "stdout",
     "output_type": "stream",
     "text": [
      "Current lr : 0.005\n",
      "23:49:12 : Epoch: 1\n",
      "23:49:20 : Epoch 0001 | Step 0050 / 196 | Loss 20.0687 | Time 7.4413\n",
      "23:49:22 : Epoch 0001 | Step 0100 / 196 | Loss 17.0355 | Time 10.0178\n",
      "23:49:25 : Epoch 0001 | Step 0150 / 196 | Loss 14.7216 | Time 12.3736\n",
      "23:49:27 : Epoch 0001 | Step 0196 / 196 | Loss 12.6788 | Time 14.3309\n"
     ]
    },
    {
     "name": "stderr",
     "output_type": "stream",
     "text": [
      "25it [00:01, 19.77it/s]\n"
     ]
    },
    {
     "name": "stdout",
     "output_type": "stream",
     "text": [
      "23:49:28 : Current AUC: 0.668199, Best AUC: 0.668199\n",
      "\n",
      "Current lr : 0.004\n",
      "23:49:28 : Epoch: 2\n",
      "23:49:30 : Epoch 0002 | Step 0050 / 196 | Loss 3.0824 | Time 2.1991\n",
      "23:49:32 : Epoch 0002 | Step 0100 / 196 | Loss 2.4526 | Time 4.2070\n",
      "23:49:34 : Epoch 0002 | Step 0150 / 196 | Loss 2.0562 | Time 6.2776\n",
      "23:49:36 : Epoch 0002 | Step 0196 / 196 | Loss 1.8110 | Time 8.1431\n"
     ]
    },
    {
     "name": "stderr",
     "output_type": "stream",
     "text": [
      "25it [00:01, 19.23it/s]\n"
     ]
    },
    {
     "name": "stdout",
     "output_type": "stream",
     "text": [
      "23:49:38 : Current AUC: 0.675466, Best AUC: 0.675466\n",
      "\n",
      "Current lr : 0.0032\n",
      "23:49:38 : Epoch: 3\n",
      "23:49:40 : Epoch 0003 | Step 0050 / 196 | Loss 0.8072 | Time 2.3218\n",
      "23:49:42 : Epoch 0003 | Step 0100 / 196 | Loss 0.7716 | Time 4.3369\n",
      "23:49:44 : Epoch 0003 | Step 0150 / 196 | Loss 0.7426 | Time 6.5938\n",
      "23:49:46 : Epoch 0003 | Step 0196 / 196 | Loss 0.7185 | Time 8.6957\n"
     ]
    },
    {
     "name": "stderr",
     "output_type": "stream",
     "text": [
      "25it [00:01, 19.60it/s]\n"
     ]
    },
    {
     "name": "stdout",
     "output_type": "stream",
     "text": [
      "23:49:48 : Current AUC: 0.702935, Best AUC: 0.702935\n",
      "\n",
      "Current lr : 0.00256\n",
      "23:49:48 : Epoch: 4\n",
      "23:49:50 : Epoch 0004 | Step 0050 / 196 | Loss 0.5870 | Time 2.3064\n",
      "23:49:52 : Epoch 0004 | Step 0100 / 196 | Loss 0.5759 | Time 4.3373\n",
      "23:49:54 : Epoch 0004 | Step 0150 / 196 | Loss 0.5675 | Time 6.5791\n",
      "23:49:56 : Epoch 0004 | Step 0196 / 196 | Loss 0.5626 | Time 8.4781\n"
     ]
    },
    {
     "name": "stderr",
     "output_type": "stream",
     "text": [
      "25it [00:01, 19.87it/s]\n"
     ]
    },
    {
     "name": "stdout",
     "output_type": "stream",
     "text": [
      "23:49:57 : Current AUC: 0.727698, Best AUC: 0.727698\n",
      "\n",
      "Current lr : 0.0020480000000000003\n",
      "23:49:57 : Epoch: 5\n",
      "23:50:00 : Epoch 0005 | Step 0050 / 196 | Loss 0.5237 | Time 2.2724\n",
      "23:50:02 : Epoch 0005 | Step 0100 / 196 | Loss 0.5190 | Time 4.4148\n",
      "23:50:04 : Epoch 0005 | Step 0150 / 196 | Loss 0.5168 | Time 6.5619\n",
      "23:50:06 : Epoch 0005 | Step 0196 / 196 | Loss 0.5155 | Time 8.5378\n"
     ]
    },
    {
     "name": "stderr",
     "output_type": "stream",
     "text": [
      "25it [00:01, 18.36it/s]\n"
     ]
    },
    {
     "name": "stdout",
     "output_type": "stream",
     "text": [
      "23:50:07 : Current AUC: 0.749647, Best AUC: 0.749647\n",
      "\n",
      "Current lr : 0.0016384000000000004\n",
      "23:50:07 : Epoch: 6\n",
      "23:50:10 : Epoch 0006 | Step 0050 / 196 | Loss 0.4945 | Time 2.3778\n",
      "23:50:12 : Epoch 0006 | Step 0100 / 196 | Loss 0.4951 | Time 4.6704\n",
      "23:50:14 : Epoch 0006 | Step 0150 / 196 | Loss 0.4938 | Time 6.9130\n",
      "23:50:16 : Epoch 0006 | Step 0196 / 196 | Loss 0.4946 | Time 8.9311\n"
     ]
    },
    {
     "name": "stderr",
     "output_type": "stream",
     "text": [
      "25it [00:01, 18.19it/s]\n"
     ]
    },
    {
     "name": "stdout",
     "output_type": "stream",
     "text": [
      "23:50:18 : Current AUC: 0.755441, Best AUC: 0.755441\n",
      "\n",
      "Current lr : 0.0013107200000000005\n",
      "23:50:18 : Epoch: 7\n",
      "23:50:20 : Epoch 0007 | Step 0050 / 196 | Loss 0.4808 | Time 2.3595\n",
      "23:50:22 : Epoch 0007 | Step 0100 / 196 | Loss 0.4822 | Time 4.3969\n",
      "23:50:24 : Epoch 0007 | Step 0150 / 196 | Loss 0.4824 | Time 6.5381\n",
      "23:50:26 : Epoch 0007 | Step 0196 / 196 | Loss 0.4840 | Time 8.4164\n"
     ]
    },
    {
     "name": "stderr",
     "output_type": "stream",
     "text": [
      "25it [00:01, 19.55it/s]\n"
     ]
    },
    {
     "name": "stdout",
     "output_type": "stream",
     "text": [
      "23:50:28 : Current AUC: 0.760693, Best AUC: 0.760693\n",
      "\n",
      "Current lr : 0.0010485760000000005\n",
      "23:50:28 : Epoch: 8\n",
      "23:50:30 : Epoch 0008 | Step 0050 / 196 | Loss 0.4772 | Time 2.2253\n",
      "23:50:32 : Epoch 0008 | Step 0100 / 196 | Loss 0.4767 | Time 4.2453\n",
      "23:50:34 : Epoch 0008 | Step 0150 / 196 | Loss 0.4774 | Time 6.3474\n",
      "23:50:36 : Epoch 0008 | Step 0196 / 196 | Loss 0.4771 | Time 8.1995\n"
     ]
    },
    {
     "name": "stderr",
     "output_type": "stream",
     "text": [
      "25it [00:01, 19.67it/s]\n"
     ]
    },
    {
     "name": "stdout",
     "output_type": "stream",
     "text": [
      "23:50:37 : Current AUC: 0.764255, Best AUC: 0.764255\n",
      "\n",
      "Current lr : 0.0008388608000000005\n",
      "23:50:37 : Epoch: 9\n",
      "23:50:39 : Epoch 0009 | Step 0050 / 196 | Loss 0.4687 | Time 2.1956\n",
      "23:50:41 : Epoch 0009 | Step 0100 / 196 | Loss 0.4695 | Time 4.2123\n",
      "23:50:44 : Epoch 0009 | Step 0150 / 196 | Loss 0.4707 | Time 6.3060\n",
      "23:50:45 : Epoch 0009 | Step 0196 / 196 | Loss 0.4714 | Time 8.1790\n"
     ]
    },
    {
     "name": "stderr",
     "output_type": "stream",
     "text": [
      "25it [00:01, 19.77it/s]\n"
     ]
    },
    {
     "name": "stdout",
     "output_type": "stream",
     "text": [
      "23:50:47 : Current AUC: 0.769728, Best AUC: 0.769728\n",
      "\n",
      "Current lr : 0.0006710886400000004\n",
      "23:50:47 : Epoch: 10\n",
      "23:50:49 : Epoch 0010 | Step 0050 / 196 | Loss 0.4643 | Time 2.2147\n",
      "23:50:51 : Epoch 0010 | Step 0100 / 196 | Loss 0.4650 | Time 4.2102\n",
      "23:50:53 : Epoch 0010 | Step 0150 / 196 | Loss 0.4658 | Time 6.2910\n",
      "23:50:55 : Epoch 0010 | Step 0196 / 196 | Loss 0.4664 | Time 8.2388\n"
     ]
    },
    {
     "name": "stderr",
     "output_type": "stream",
     "text": [
      "25it [00:01, 18.10it/s]\n"
     ]
    },
    {
     "name": "stdout",
     "output_type": "stream",
     "text": [
      "23:50:56 : Current AUC: 0.771632, Best AUC: 0.771632\n",
      "\n",
      "Current lr : 0.0005368709120000003\n",
      "23:50:56 : Epoch: 11\n",
      "23:50:59 : Epoch 0011 | Step 0050 / 196 | Loss 0.4590 | Time 2.2447\n",
      "23:51:01 : Epoch 0011 | Step 0100 / 196 | Loss 0.4599 | Time 4.2565\n",
      "23:51:03 : Epoch 0011 | Step 0150 / 196 | Loss 0.4606 | Time 6.3307\n",
      "23:51:05 : Epoch 0011 | Step 0196 / 196 | Loss 0.4618 | Time 8.2263\n"
     ]
    },
    {
     "name": "stderr",
     "output_type": "stream",
     "text": [
      "25it [00:01, 18.47it/s]\n"
     ]
    },
    {
     "name": "stdout",
     "output_type": "stream",
     "text": [
      "23:51:06 : Current AUC: 0.775467, Best AUC: 0.775467\n",
      "\n",
      "Current lr : 0.0004294967296000003\n",
      "23:51:06 : Epoch: 12\n",
      "23:51:09 : Epoch 0012 | Step 0050 / 196 | Loss 0.4540 | Time 2.4095\n",
      "23:51:11 : Epoch 0012 | Step 0100 / 196 | Loss 0.4553 | Time 4.5781\n",
      "23:51:13 : Epoch 0012 | Step 0150 / 196 | Loss 0.4570 | Time 6.6998\n",
      "23:51:15 : Epoch 0012 | Step 0196 / 196 | Loss 0.4572 | Time 8.7536\n"
     ]
    },
    {
     "name": "stderr",
     "output_type": "stream",
     "text": [
      "25it [00:01, 18.25it/s]\n"
     ]
    },
    {
     "name": "stdout",
     "output_type": "stream",
     "text": [
      "23:51:16 : Current AUC: 0.775753, Best AUC: 0.775753\n",
      "\n",
      "Current lr : 0.00034359738368000027\n",
      "23:51:16 : Epoch: 13\n",
      "23:51:19 : Epoch 0013 | Step 0050 / 196 | Loss 0.4453 | Time 2.3629\n",
      "23:51:21 : Epoch 0013 | Step 0100 / 196 | Loss 0.4466 | Time 4.5926\n",
      "23:51:23 : Epoch 0013 | Step 0150 / 196 | Loss 0.4496 | Time 6.7585\n",
      "23:51:25 : Epoch 0013 | Step 0196 / 196 | Loss 0.4522 | Time 8.7495\n"
     ]
    },
    {
     "name": "stderr",
     "output_type": "stream",
     "text": [
      "25it [00:01, 18.52it/s]\n"
     ]
    },
    {
     "name": "stdout",
     "output_type": "stream",
     "text": [
      "23:51:27 : Current AUC: 0.777875, Best AUC: 0.777875\n",
      "\n",
      "Current lr : 0.00027487790694400024\n",
      "23:51:27 : Epoch: 14\n",
      "23:51:29 : Epoch 0014 | Step 0050 / 196 | Loss 0.4405 | Time 2.3796\n",
      "23:51:31 : Epoch 0014 | Step 0100 / 196 | Loss 0.4414 | Time 4.4195\n",
      "23:51:33 : Epoch 0014 | Step 0150 / 196 | Loss 0.4440 | Time 6.4940\n",
      "23:51:35 : Epoch 0014 | Step 0196 / 196 | Loss 0.4455 | Time 8.4841\n"
     ]
    },
    {
     "name": "stderr",
     "output_type": "stream",
     "text": [
      "25it [00:01, 19.60it/s]\n"
     ]
    },
    {
     "name": "stdout",
     "output_type": "stream",
     "text": [
      "23:51:36 : Current AUC: 0.778045, Best AUC: 0.778045\n",
      "\n",
      "Current lr : 0.0002199023255552002\n",
      "23:51:36 : Epoch: 15\n",
      "23:51:39 : Epoch 0015 | Step 0050 / 196 | Loss 0.4325 | Time 2.1808\n",
      "23:51:41 : Epoch 0015 | Step 0100 / 196 | Loss 0.4340 | Time 4.1876\n",
      "23:51:43 : Epoch 0015 | Step 0150 / 196 | Loss 0.4350 | Time 6.3129\n",
      "23:51:45 : Epoch 0015 | Step 0196 / 196 | Loss 0.4368 | Time 8.2543\n"
     ]
    },
    {
     "name": "stderr",
     "output_type": "stream",
     "text": [
      "25it [00:01, 18.60it/s]\n"
     ]
    },
    {
     "name": "stdout",
     "output_type": "stream",
     "text": [
      "23:51:46 : Current AUC: 0.778518, Best AUC: 0.778518\n",
      "\n",
      "Current lr : 0.00017592186044416018\n",
      "23:51:46 : Epoch: 16\n",
      "23:51:48 : Epoch 0016 | Step 0050 / 196 | Loss 0.4166 | Time 2.2495\n",
      "23:51:50 : Epoch 0016 | Step 0100 / 196 | Loss 0.4181 | Time 4.2571\n",
      "23:51:52 : Epoch 0016 | Step 0150 / 196 | Loss 0.4215 | Time 6.3233\n",
      "23:51:54 : Epoch 0016 | Step 0196 / 196 | Loss 0.4241 | Time 8.1853\n"
     ]
    },
    {
     "name": "stderr",
     "output_type": "stream",
     "text": [
      "25it [00:01, 19.63it/s]\n"
     ]
    },
    {
     "name": "stdout",
     "output_type": "stream",
     "text": [
      "23:51:56 : Current AUC: 0.775496, Best AUC: 0.778518\n",
      "\n",
      "Current lr : 0.00014073748835532815\n",
      "23:51:56 : Epoch: 17\n",
      "23:51:58 : Epoch 0017 | Step 0050 / 196 | Loss 0.3938 | Time 2.1593\n",
      "23:52:00 : Epoch 0017 | Step 0100 / 196 | Loss 0.3957 | Time 4.1457\n",
      "23:52:02 : Epoch 0017 | Step 0150 / 196 | Loss 0.3990 | Time 6.2148\n",
      "23:52:04 : Epoch 0017 | Step 0196 / 196 | Loss 0.4011 | Time 8.0771\n"
     ]
    },
    {
     "name": "stderr",
     "output_type": "stream",
     "text": [
      "25it [00:01, 19.45it/s]\n"
     ]
    },
    {
     "name": "stdout",
     "output_type": "stream",
     "text": [
      "23:52:05 : Current AUC: 0.768149, Best AUC: 0.778518\n",
      "\n",
      "Current lr : 0.00011258999068426252\n",
      "23:52:05 : Epoch: 18\n",
      "23:52:07 : Epoch 0018 | Step 0050 / 196 | Loss 0.3605 | Time 2.2173\n",
      "23:52:09 : Epoch 0018 | Step 0100 / 196 | Loss 0.3625 | Time 4.3045\n",
      "23:52:11 : Epoch 0018 | Step 0150 / 196 | Loss 0.3664 | Time 6.2936\n",
      "23:52:13 : Epoch 0018 | Step 0196 / 196 | Loss 0.3696 | Time 8.1462\n"
     ]
    },
    {
     "name": "stderr",
     "output_type": "stream",
     "text": [
      "25it [00:01, 18.33it/s]\n"
     ]
    },
    {
     "name": "stdout",
     "output_type": "stream",
     "text": [
      "23:52:15 : Current AUC: 0.756097, Best AUC: 0.778518\n",
      "\n",
      "Current lr : 9.007199254741002e-05\n",
      "23:52:15 : Epoch: 19\n",
      "23:52:17 : Epoch 0019 | Step 0050 / 196 | Loss 0.3385 | Time 2.1601\n",
      "23:52:19 : Epoch 0019 | Step 0100 / 196 | Loss 0.3380 | Time 4.2611\n",
      "23:52:21 : Epoch 0019 | Step 0150 / 196 | Loss 0.3406 | Time 6.2613\n",
      "23:52:23 : Epoch 0019 | Step 0196 / 196 | Loss 0.3422 | Time 8.1317\n"
     ]
    },
    {
     "name": "stderr",
     "output_type": "stream",
     "text": [
      "25it [00:01, 18.21it/s]\n"
     ]
    },
    {
     "name": "stdout",
     "output_type": "stream",
     "text": [
      "23:52:24 : Current AUC: 0.753327, Best AUC: 0.778518\n",
      "\n",
      "Current lr : 7.205759403792802e-05\n",
      "23:52:24 : Epoch: 20\n",
      "23:52:26 : Epoch 0020 | Step 0050 / 196 | Loss 0.3185 | Time 2.1332\n",
      "23:52:28 : Epoch 0020 | Step 0100 / 196 | Loss 0.3202 | Time 4.2230\n",
      "23:52:30 : Epoch 0020 | Step 0150 / 196 | Loss 0.3209 | Time 6.2249\n",
      "23:52:32 : Epoch 0020 | Step 0196 / 196 | Loss 0.3229 | Time 8.0755\n"
     ]
    },
    {
     "name": "stderr",
     "output_type": "stream",
     "text": [
      "25it [00:01, 18.43it/s]\n"
     ]
    },
    {
     "name": "stdout",
     "output_type": "stream",
     "text": [
      "23:52:34 : Current AUC: 0.747955, Best AUC: 0.778518\n",
      "\n",
      "Current lr : 5.764607523034242e-05\n",
      "23:52:34 : Epoch: 21\n",
      "23:52:36 : Epoch 0021 | Step 0050 / 196 | Loss 0.2994 | Time 2.0838\n",
      "23:52:38 : Epoch 0021 | Step 0100 / 196 | Loss 0.3056 | Time 4.1595\n",
      "23:52:40 : Epoch 0021 | Step 0150 / 196 | Loss 0.3071 | Time 6.1607\n",
      "23:52:42 : Epoch 0021 | Step 0196 / 196 | Loss 0.3094 | Time 8.0160\n"
     ]
    },
    {
     "name": "stderr",
     "output_type": "stream",
     "text": [
      "25it [00:01, 18.36it/s]\n"
     ]
    },
    {
     "name": "stdout",
     "output_type": "stream",
     "text": [
      "23:52:43 : Current AUC: 0.744076, Best AUC: 0.778518\n",
      "\n",
      "Current lr : 4.611686018427394e-05\n",
      "23:52:43 : Epoch: 22\n",
      "23:52:45 : Epoch 0022 | Step 0050 / 196 | Loss 0.2919 | Time 2.1084\n",
      "23:52:47 : Epoch 0022 | Step 0100 / 196 | Loss 0.2962 | Time 4.2187\n",
      "23:52:49 : Epoch 0022 | Step 0150 / 196 | Loss 0.2970 | Time 6.3461\n",
      "23:52:51 : Epoch 0022 | Step 0196 / 196 | Loss 0.2985 | Time 8.2247\n"
     ]
    },
    {
     "name": "stderr",
     "output_type": "stream",
     "text": [
      "25it [00:01, 19.46it/s]\n"
     ]
    },
    {
     "name": "stdout",
     "output_type": "stream",
     "text": [
      "23:52:53 : Current AUC: 0.742628, Best AUC: 0.778518\n",
      "\n",
      "Current lr : 3.6893488147419155e-05\n",
      "23:52:53 : Epoch: 23\n",
      "23:52:55 : Epoch 0023 | Step 0050 / 196 | Loss 0.2871 | Time 2.2395\n",
      "23:52:57 : Epoch 0023 | Step 0100 / 196 | Loss 0.2882 | Time 4.2317\n",
      "23:52:59 : Epoch 0023 | Step 0150 / 196 | Loss 0.2895 | Time 6.3205\n",
      "23:53:01 : Epoch 0023 | Step 0196 / 196 | Loss 0.2909 | Time 8.1827\n"
     ]
    },
    {
     "name": "stderr",
     "output_type": "stream",
     "text": [
      "25it [00:01, 19.64it/s]\n"
     ]
    },
    {
     "name": "stdout",
     "output_type": "stream",
     "text": [
      "23:53:02 : Current AUC: 0.742656, Best AUC: 0.778518\n",
      "\n",
      "Current lr : 2.9514790517935324e-05\n",
      "23:53:02 : Epoch: 24\n",
      "23:53:04 : Epoch 0024 | Step 0050 / 196 | Loss 0.2789 | Time 2.2567\n",
      "23:53:06 : Epoch 0024 | Step 0100 / 196 | Loss 0.2823 | Time 4.2719\n",
      "23:53:08 : Epoch 0024 | Step 0150 / 196 | Loss 0.2834 | Time 6.3462\n",
      "23:53:10 : Epoch 0024 | Step 0196 / 196 | Loss 0.2854 | Time 8.2110\n"
     ]
    },
    {
     "name": "stderr",
     "output_type": "stream",
     "text": [
      "25it [00:01, 19.69it/s]\n"
     ]
    },
    {
     "name": "stdout",
     "output_type": "stream",
     "text": [
      "23:53:12 : Current AUC: 0.737945, Best AUC: 0.778518\n",
      "\n",
      "Current lr : 2.361183241434826e-05\n",
      "23:53:12 : Epoch: 25\n",
      "23:53:14 : Epoch 0025 | Step 0050 / 196 | Loss 0.2785 | Time 2.2174\n",
      "23:53:16 : Epoch 0025 | Step 0100 / 196 | Loss 0.2798 | Time 4.3033\n",
      "23:53:18 : Epoch 0025 | Step 0150 / 196 | Loss 0.2804 | Time 6.2927\n",
      "23:53:20 : Epoch 0025 | Step 0196 / 196 | Loss 0.2805 | Time 8.1651\n"
     ]
    },
    {
     "name": "stderr",
     "output_type": "stream",
     "text": [
      "25it [00:01, 18.03it/s]\n"
     ]
    },
    {
     "name": "stdout",
     "output_type": "stream",
     "text": [
      "23:53:21 : Current AUC: 0.734628, Best AUC: 0.778518\n",
      "\n",
      "Current lr : 1.888946593147861e-05\n",
      "23:53:21 : Epoch: 26\n",
      "23:53:23 : Epoch 0026 | Step 0050 / 196 | Loss 0.2766 | Time 2.1635\n",
      "23:53:25 : Epoch 0026 | Step 0100 / 196 | Loss 0.2741 | Time 4.2763\n",
      "23:53:27 : Epoch 0026 | Step 0150 / 196 | Loss 0.2758 | Time 6.2765\n",
      "23:53:29 : Epoch 0026 | Step 0196 / 196 | Loss 0.2770 | Time 8.2430\n"
     ]
    },
    {
     "name": "stderr",
     "output_type": "stream",
     "text": [
      "25it [00:01, 19.27it/s]\n"
     ]
    },
    {
     "name": "stdout",
     "output_type": "stream",
     "text": [
      "23:53:31 : Current AUC: 0.734942, Best AUC: 0.778518\n",
      "\n",
      "Current lr : 1.5111572745182888e-05\n",
      "23:53:31 : Epoch: 27\n",
      "23:53:33 : Epoch 0027 | Step 0050 / 196 | Loss 0.2716 | Time 2.1398\n",
      "23:53:35 : Epoch 0027 | Step 0100 / 196 | Loss 0.2739 | Time 4.2305\n",
      "23:53:37 : Epoch 0027 | Step 0150 / 196 | Loss 0.2744 | Time 6.3077\n",
      "23:53:39 : Epoch 0027 | Step 0196 / 196 | Loss 0.2746 | Time 8.1860\n"
     ]
    },
    {
     "name": "stderr",
     "output_type": "stream",
     "text": [
      "25it [00:01, 19.37it/s]\n"
     ]
    },
    {
     "name": "stdout",
     "output_type": "stream",
     "text": [
      "23:53:40 : Current AUC: 0.735320, Best AUC: 0.778518\n",
      "\n",
      "Current lr : 1.2089258196146311e-05\n",
      "23:53:40 : Epoch: 28\n",
      "23:53:43 : Epoch 0028 | Step 0050 / 196 | Loss 0.2697 | Time 2.2313\n",
      "23:53:45 : Epoch 0028 | Step 0100 / 196 | Loss 0.2725 | Time 4.2648\n",
      "23:53:47 : Epoch 0028 | Step 0150 / 196 | Loss 0.2731 | Time 6.3415\n",
      "23:53:49 : Epoch 0028 | Step 0196 / 196 | Loss 0.2726 | Time 8.2158\n"
     ]
    },
    {
     "name": "stderr",
     "output_type": "stream",
     "text": [
      "25it [00:01, 18.84it/s]\n"
     ]
    },
    {
     "name": "stdout",
     "output_type": "stream",
     "text": [
      "23:53:50 : Current AUC: 0.734156, Best AUC: 0.778518\n",
      "\n",
      "Current lr : 9.67140655691705e-06\n",
      "23:53:50 : Epoch: 29\n",
      "23:53:52 : Epoch 0029 | Step 0050 / 196 | Loss 0.2729 | Time 2.3006\n",
      "23:53:54 : Epoch 0029 | Step 0100 / 196 | Loss 0.2702 | Time 4.5218\n",
      "23:53:56 : Epoch 0029 | Step 0150 / 196 | Loss 0.2705 | Time 6.5178\n",
      "23:53:58 : Epoch 0029 | Step 0196 / 196 | Loss 0.2710 | Time 8.3926\n"
     ]
    },
    {
     "name": "stderr",
     "output_type": "stream",
     "text": [
      "25it [00:01, 18.25it/s]\n"
     ]
    },
    {
     "name": "stdout",
     "output_type": "stream",
     "text": [
      "23:54:00 : Current AUC: 0.733780, Best AUC: 0.778518\n",
      "\n",
      "Current lr : 7.73712524553364e-06\n",
      "23:54:00 : Epoch: 30\n",
      "23:54:02 : Epoch 0030 | Step 0050 / 196 | Loss 0.2741 | Time 2.0563\n",
      "23:54:04 : Epoch 0030 | Step 0100 / 196 | Loss 0.2727 | Time 4.1416\n",
      "23:54:06 : Epoch 0030 | Step 0150 / 196 | Loss 0.2707 | Time 6.1361\n",
      "23:54:08 : Epoch 0030 | Step 0196 / 196 | Loss 0.2694 | Time 8.0230\n"
     ]
    },
    {
     "name": "stderr",
     "output_type": "stream",
     "text": [
      "25it [00:01, 18.47it/s]"
     ]
    },
    {
     "name": "stdout",
     "output_type": "stream",
     "text": [
      "23:54:09 : Current AUC: 0.734076, Best AUC: 0.778518\n",
      "\n"
     ]
    },
    {
     "name": "stderr",
     "output_type": "stream",
     "text": [
      "\n"
     ]
    }
   ],
   "source": [
    "def train_and_eval(model, train_loader, valid_loader, epochs, device):\n",
    "    best_auc = 0.0\n",
    "    for _ in range(epochs):\n",
    "        \"\"\"训练部分\"\"\"\n",
    "        model.train()\n",
    "        print(\"Current lr : {}\".format(optimizer.state_dict()['param_groups'][0]['lr']))\n",
    "        write_log('Epoch: {}'.format(_ + 1))\n",
    "        train_loss_sum = 0.0\n",
    "        start_time = time.time()\n",
    "        for idx, x in enumerate(train_loader):\n",
    "            cate_fea, nume_fea, label = x[0], x[1], x[2]\n",
    "            cate_fea, nume_fea, label = cate_fea.to(device), nume_fea.to(device), label.float().to(device)\n",
    "            pred = model(cate_fea, nume_fea).view(-1)\n",
    "            loss = loss_fcn(pred, label)\n",
    "            optimizer.zero_grad()\n",
    "            loss.backward()\n",
    "            optimizer.step()\n",
    "            \n",
    "            train_loss_sum += loss.cpu().item()\n",
    "            if (idx+1) % 50 == 0 or (idx + 1) == len(train_loader):\n",
    "                write_log(\"Epoch {:04d} | Step {:04d} / {} | Loss {:.4f} | Time {:.4f}\".format(\n",
    "                          _+1, idx+1, len(train_loader), train_loss_sum/(idx+1), time.time() - start_time))\n",
    "        scheduler.step()\n",
    "        \"\"\"推断部分\"\"\"\n",
    "        model.eval()\n",
    "        with torch.no_grad():\n",
    "            valid_labels, valid_preds = [], []\n",
    "            for idx, x in tqdm(enumerate(valid_loader)):\n",
    "                cate_fea, nume_fea, label = x[0], x[1], x[2]\n",
    "                cate_fea, nume_fea = cate_fea.to(device), nume_fea.to(device)\n",
    "                pred = model(cate_fea, nume_fea).reshape(-1).data.cpu().numpy().tolist()\n",
    "                valid_preds.extend(pred)\n",
    "                valid_labels.extend(label.cpu().numpy().tolist())\n",
    "        cur_auc = roc_auc_score(valid_labels, valid_preds)\n",
    "        if cur_auc > best_auc:\n",
    "            best_auc = cur_auc\n",
    "            torch.save(model.state_dict(), \"data/deepfm_best.pth\")\n",
    "        write_log('Current AUC: %.6f, Best AUC: %.6f\\n' % (cur_auc, best_auc))\n",
    "        \n",
    "\n",
    "train_and_eval(model, train_loader, valid_loader, 30, device)"
   ]
  },
  {
   "cell_type": "code",
   "execution_count": null,
   "id": "88ce6605",
   "metadata": {},
   "outputs": [],
   "source": []
  }
 ],
 "metadata": {
  "kernelspec": {
   "display_name": "Python [conda env:torch_gpu]",
   "language": "python",
   "name": "conda-env-torch_gpu-py"
  },
  "language_info": {
   "codemirror_mode": {
    "name": "ipython",
    "version": 3
   },
   "file_extension": ".py",
   "mimetype": "text/x-python",
   "name": "python",
   "nbconvert_exporter": "python",
   "pygments_lexer": "ipython3",
   "version": "3.8.13"
  }
 },
 "nbformat": 4,
 "nbformat_minor": 5
}
