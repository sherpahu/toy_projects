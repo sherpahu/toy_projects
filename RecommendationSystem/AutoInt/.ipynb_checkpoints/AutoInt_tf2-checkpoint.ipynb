{
 "cells": [
  {
   "cell_type": "code",
   "execution_count": 1,
   "id": "4784bfec",
   "metadata": {},
   "outputs": [
    {
     "data": {
      "text/plain": [
       "'2.10.0'"
      ]
     },
     "execution_count": 1,
     "metadata": {},
     "output_type": "execute_result"
    }
   ],
   "source": [
    "import tensorflow as tf\n",
    "tf.__version__"
   ]
  },
  {
   "cell_type": "code",
   "execution_count": 3,
   "id": "b5d50c5f",
   "metadata": {},
   "outputs": [],
   "source": [
    "from sklearn.preprocessing import MinMaxScaler\n",
    "from sklearn.model_selection import train_test_split\n",
    "import pandas as pd\n",
    "import matplotlib.pyplot as plt\n",
    "from sklearn.metrics import confusion_matrix,classification_report\n",
    "import seaborn as sns"
   ]
  },
  {
   "cell_type": "code",
   "execution_count": 6,
   "id": "f17ed0d4",
   "metadata": {},
   "outputs": [
    {
     "name": "stdout",
     "output_type": "stream",
     "text": [
      "adult-census.csv\n",
      "adult_processed.csv\n",
      "preprocessing.ipynb\n"
     ]
    }
   ],
   "source": [
    "!ls ../../data/adult/"
   ]
  },
  {
   "cell_type": "code",
   "execution_count": 9,
   "id": "93359aca",
   "metadata": {},
   "outputs": [
    {
     "data": {
      "text/html": [
       "<div>\n",
       "<style scoped>\n",
       "    .dataframe tbody tr th:only-of-type {\n",
       "        vertical-align: middle;\n",
       "    }\n",
       "\n",
       "    .dataframe tbody tr th {\n",
       "        vertical-align: top;\n",
       "    }\n",
       "\n",
       "    .dataframe thead th {\n",
       "        text-align: right;\n",
       "    }\n",
       "</style>\n",
       "<table border=\"1\" class=\"dataframe\">\n",
       "  <thead>\n",
       "    <tr style=\"text-align: right;\">\n",
       "      <th></th>\n",
       "      <th>age</th>\n",
       "      <th>workclass</th>\n",
       "      <th>education</th>\n",
       "      <th>education-num</th>\n",
       "      <th>marital-status</th>\n",
       "      <th>occupation</th>\n",
       "      <th>relationship</th>\n",
       "      <th>race</th>\n",
       "      <th>sex</th>\n",
       "      <th>capital-gain</th>\n",
       "      <th>capital-loss</th>\n",
       "      <th>hours-per-week</th>\n",
       "      <th>native-country</th>\n",
       "      <th>target</th>\n",
       "    </tr>\n",
       "  </thead>\n",
       "  <tbody>\n",
       "    <tr>\n",
       "      <th>0</th>\n",
       "      <td>25</td>\n",
       "      <td>4</td>\n",
       "      <td>1</td>\n",
       "      <td>7</td>\n",
       "      <td>4</td>\n",
       "      <td>7</td>\n",
       "      <td>3</td>\n",
       "      <td>2</td>\n",
       "      <td>1</td>\n",
       "      <td>0</td>\n",
       "      <td>0</td>\n",
       "      <td>40</td>\n",
       "      <td>39</td>\n",
       "      <td>0</td>\n",
       "    </tr>\n",
       "    <tr>\n",
       "      <th>1</th>\n",
       "      <td>38</td>\n",
       "      <td>4</td>\n",
       "      <td>11</td>\n",
       "      <td>9</td>\n",
       "      <td>2</td>\n",
       "      <td>5</td>\n",
       "      <td>0</td>\n",
       "      <td>4</td>\n",
       "      <td>1</td>\n",
       "      <td>0</td>\n",
       "      <td>0</td>\n",
       "      <td>50</td>\n",
       "      <td>39</td>\n",
       "      <td>0</td>\n",
       "    </tr>\n",
       "    <tr>\n",
       "      <th>2</th>\n",
       "      <td>28</td>\n",
       "      <td>2</td>\n",
       "      <td>7</td>\n",
       "      <td>12</td>\n",
       "      <td>2</td>\n",
       "      <td>11</td>\n",
       "      <td>0</td>\n",
       "      <td>4</td>\n",
       "      <td>1</td>\n",
       "      <td>0</td>\n",
       "      <td>0</td>\n",
       "      <td>40</td>\n",
       "      <td>39</td>\n",
       "      <td>1</td>\n",
       "    </tr>\n",
       "    <tr>\n",
       "      <th>3</th>\n",
       "      <td>44</td>\n",
       "      <td>4</td>\n",
       "      <td>15</td>\n",
       "      <td>10</td>\n",
       "      <td>2</td>\n",
       "      <td>7</td>\n",
       "      <td>0</td>\n",
       "      <td>2</td>\n",
       "      <td>1</td>\n",
       "      <td>7688</td>\n",
       "      <td>0</td>\n",
       "      <td>40</td>\n",
       "      <td>39</td>\n",
       "      <td>1</td>\n",
       "    </tr>\n",
       "    <tr>\n",
       "      <th>4</th>\n",
       "      <td>18</td>\n",
       "      <td>0</td>\n",
       "      <td>15</td>\n",
       "      <td>10</td>\n",
       "      <td>4</td>\n",
       "      <td>0</td>\n",
       "      <td>3</td>\n",
       "      <td>4</td>\n",
       "      <td>0</td>\n",
       "      <td>0</td>\n",
       "      <td>0</td>\n",
       "      <td>30</td>\n",
       "      <td>39</td>\n",
       "      <td>0</td>\n",
       "    </tr>\n",
       "  </tbody>\n",
       "</table>\n",
       "</div>"
      ],
      "text/plain": [
       "   age  workclass  education  education-num  marital-status  occupation  \\\n",
       "0   25          4          1              7               4           7   \n",
       "1   38          4         11              9               2           5   \n",
       "2   28          2          7             12               2          11   \n",
       "3   44          4         15             10               2           7   \n",
       "4   18          0         15             10               4           0   \n",
       "\n",
       "   relationship  race  sex  capital-gain  capital-loss  hours-per-week  \\\n",
       "0             3     2    1             0             0              40   \n",
       "1             0     4    1             0             0              50   \n",
       "2             0     4    1             0             0              40   \n",
       "3             0     2    1          7688             0              40   \n",
       "4             3     4    0             0             0              30   \n",
       "\n",
       "   native-country  target  \n",
       "0              39       0  \n",
       "1              39       0  \n",
       "2              39       1  \n",
       "3              39       1  \n",
       "4              39       0  "
      ]
     },
     "execution_count": 9,
     "metadata": {},
     "output_type": "execute_result"
    }
   ],
   "source": [
    "data = []\n",
    "path = r'../../data/adult/adult_processed.csv'\n",
    "data = pd.read_csv(path)\n",
    "num_col = [\n",
    "    \"age\",\n",
    "    \"education-num\",\n",
    "    \"capital-gain\",\n",
    "    \"capital-loss\",\n",
    "    \"hours-per-week\",\n",
    "]\n",
    "nonum_col = [\n",
    "    \"workclass\",\n",
    "    \"education\",\n",
    "    \"marital-status\",\n",
    "    \"occupation\",\n",
    "    \"relationship\",\n",
    "    \"race\",\n",
    "    \"sex\",\n",
    "    \"native-country\",\n",
    "]\n",
    "data.head()"
   ]
  },
  {
   "cell_type": "code",
   "execution_count": 11,
   "id": "f8b4dd63",
   "metadata": {},
   "outputs": [
    {
     "data": {
      "text/html": [
       "<div>\n",
       "<style scoped>\n",
       "    .dataframe tbody tr th:only-of-type {\n",
       "        vertical-align: middle;\n",
       "    }\n",
       "\n",
       "    .dataframe tbody tr th {\n",
       "        vertical-align: top;\n",
       "    }\n",
       "\n",
       "    .dataframe thead th {\n",
       "        text-align: right;\n",
       "    }\n",
       "</style>\n",
       "<table border=\"1\" class=\"dataframe\">\n",
       "  <thead>\n",
       "    <tr style=\"text-align: right;\">\n",
       "      <th></th>\n",
       "      <th>age</th>\n",
       "      <th>education-num</th>\n",
       "      <th>capital-gain</th>\n",
       "      <th>capital-loss</th>\n",
       "      <th>hours-per-week</th>\n",
       "      <th>target</th>\n",
       "      <th>0</th>\n",
       "      <th>1</th>\n",
       "      <th>2</th>\n",
       "      <th>3</th>\n",
       "      <th>...</th>\n",
       "      <th>32</th>\n",
       "      <th>33</th>\n",
       "      <th>34</th>\n",
       "      <th>35</th>\n",
       "      <th>36</th>\n",
       "      <th>37</th>\n",
       "      <th>38</th>\n",
       "      <th>39</th>\n",
       "      <th>40</th>\n",
       "      <th>41</th>\n",
       "    </tr>\n",
       "  </thead>\n",
       "  <tbody>\n",
       "    <tr>\n",
       "      <th>0</th>\n",
       "      <td>0.109589</td>\n",
       "      <td>0.400000</td>\n",
       "      <td>0.000000</td>\n",
       "      <td>0.0</td>\n",
       "      <td>0.397959</td>\n",
       "      <td>0</td>\n",
       "      <td>0</td>\n",
       "      <td>0</td>\n",
       "      <td>0</td>\n",
       "      <td>0</td>\n",
       "      <td>...</td>\n",
       "      <td>0</td>\n",
       "      <td>0</td>\n",
       "      <td>0</td>\n",
       "      <td>0</td>\n",
       "      <td>0</td>\n",
       "      <td>0</td>\n",
       "      <td>0</td>\n",
       "      <td>1</td>\n",
       "      <td>0</td>\n",
       "      <td>0</td>\n",
       "    </tr>\n",
       "    <tr>\n",
       "      <th>1</th>\n",
       "      <td>0.287671</td>\n",
       "      <td>0.533333</td>\n",
       "      <td>0.000000</td>\n",
       "      <td>0.0</td>\n",
       "      <td>0.500000</td>\n",
       "      <td>0</td>\n",
       "      <td>0</td>\n",
       "      <td>0</td>\n",
       "      <td>0</td>\n",
       "      <td>0</td>\n",
       "      <td>...</td>\n",
       "      <td>0</td>\n",
       "      <td>0</td>\n",
       "      <td>0</td>\n",
       "      <td>0</td>\n",
       "      <td>0</td>\n",
       "      <td>0</td>\n",
       "      <td>0</td>\n",
       "      <td>1</td>\n",
       "      <td>0</td>\n",
       "      <td>0</td>\n",
       "    </tr>\n",
       "    <tr>\n",
       "      <th>2</th>\n",
       "      <td>0.150685</td>\n",
       "      <td>0.733333</td>\n",
       "      <td>0.000000</td>\n",
       "      <td>0.0</td>\n",
       "      <td>0.397959</td>\n",
       "      <td>1</td>\n",
       "      <td>0</td>\n",
       "      <td>0</td>\n",
       "      <td>1</td>\n",
       "      <td>0</td>\n",
       "      <td>...</td>\n",
       "      <td>0</td>\n",
       "      <td>0</td>\n",
       "      <td>0</td>\n",
       "      <td>0</td>\n",
       "      <td>0</td>\n",
       "      <td>0</td>\n",
       "      <td>0</td>\n",
       "      <td>1</td>\n",
       "      <td>0</td>\n",
       "      <td>0</td>\n",
       "    </tr>\n",
       "    <tr>\n",
       "      <th>3</th>\n",
       "      <td>0.369863</td>\n",
       "      <td>0.600000</td>\n",
       "      <td>0.076881</td>\n",
       "      <td>0.0</td>\n",
       "      <td>0.397959</td>\n",
       "      <td>1</td>\n",
       "      <td>0</td>\n",
       "      <td>0</td>\n",
       "      <td>0</td>\n",
       "      <td>0</td>\n",
       "      <td>...</td>\n",
       "      <td>0</td>\n",
       "      <td>0</td>\n",
       "      <td>0</td>\n",
       "      <td>0</td>\n",
       "      <td>0</td>\n",
       "      <td>0</td>\n",
       "      <td>0</td>\n",
       "      <td>1</td>\n",
       "      <td>0</td>\n",
       "      <td>0</td>\n",
       "    </tr>\n",
       "    <tr>\n",
       "      <th>4</th>\n",
       "      <td>0.013699</td>\n",
       "      <td>0.600000</td>\n",
       "      <td>0.000000</td>\n",
       "      <td>0.0</td>\n",
       "      <td>0.295918</td>\n",
       "      <td>0</td>\n",
       "      <td>1</td>\n",
       "      <td>0</td>\n",
       "      <td>0</td>\n",
       "      <td>0</td>\n",
       "      <td>...</td>\n",
       "      <td>0</td>\n",
       "      <td>0</td>\n",
       "      <td>0</td>\n",
       "      <td>0</td>\n",
       "      <td>0</td>\n",
       "      <td>0</td>\n",
       "      <td>0</td>\n",
       "      <td>1</td>\n",
       "      <td>0</td>\n",
       "      <td>0</td>\n",
       "    </tr>\n",
       "  </tbody>\n",
       "</table>\n",
       "<p>5 rows × 108 columns</p>\n",
       "</div>"
      ],
      "text/plain": [
       "        age  education-num  capital-gain  capital-loss  hours-per-week  \\\n",
       "0  0.109589       0.400000      0.000000           0.0        0.397959   \n",
       "1  0.287671       0.533333      0.000000           0.0        0.500000   \n",
       "2  0.150685       0.733333      0.000000           0.0        0.397959   \n",
       "3  0.369863       0.600000      0.076881           0.0        0.397959   \n",
       "4  0.013699       0.600000      0.000000           0.0        0.295918   \n",
       "\n",
       "   target  0  1  2  3  ...  32  33  34  35  36  37  38  39  40  41  \n",
       "0       0  0  0  0  0  ...   0   0   0   0   0   0   0   1   0   0  \n",
       "1       0  0  0  0  0  ...   0   0   0   0   0   0   0   1   0   0  \n",
       "2       1  0  0  1  0  ...   0   0   0   0   0   0   0   1   0   0  \n",
       "3       1  0  0  0  0  ...   0   0   0   0   0   0   0   1   0   0  \n",
       "4       0  1  0  0  0  ...   0   0   0   0   0   0   0   1   0   0  \n",
       "\n",
       "[5 rows x 108 columns]"
      ]
     },
     "execution_count": 11,
     "metadata": {},
     "output_type": "execute_result"
    }
   ],
   "source": [
    "data[num_col] = data[num_col].astype(int)\n",
    "for i in num_col:\n",
    "    data[i] = MinMaxScaler(feature_range=[0,1]).fit_transform(data[i].values.reshape(-1, 1))\n",
    "for i in nonum_col:\n",
    "    data = pd.concat((data,pd.get_dummies(data[i])),axis=1)\n",
    "    del data[i]\n",
    "data.head()"
   ]
  },
  {
   "cell_type": "code",
   "execution_count": 12,
   "id": "bc9d5cb1",
   "metadata": {},
   "outputs": [],
   "source": [
    "train,test = train_test_split(data,test_size=0.3,random_state=10)"
   ]
  },
  {
   "cell_type": "code",
   "execution_count": 13,
   "id": "a4a32386",
   "metadata": {},
   "outputs": [],
   "source": [
    "feature = train.columns.tolist()\n",
    "feature.remove('target')\n",
    "label = ['target']"
   ]
  },
  {
   "cell_type": "code",
   "execution_count": 14,
   "id": "65d3d544",
   "metadata": {},
   "outputs": [],
   "source": [
    "def interacting_layer(x,head_num):\n",
    "    dim = x.shape[-1]\n",
    "    attention_output_dim = dim*x.shape[-2]\n",
    "    Q = tf.keras.layers.Dense(units=head_num*dim)(x)\n",
    "    K = tf.keras.layers.Dense(units=head_num*dim)(x)\n",
    "    V = tf.keras.layers.Dense(units=head_num*dim)(x)\n",
    "    Qs = tf.split(Q,head_num*[dim],-1)\n",
    "    Ks = tf.split(K,head_num*[dim],-1)\n",
    "    Vs = tf.split(V,head_num*[dim],-1)\n",
    "    alphas = []\n",
    "    for num in range(head_num):\n",
    "        score = tf.nn.softmax(tf.matmul(Qs[num],Ks[num],transpose_b=True)/dim)\n",
    "        alpha = tf.matmul(score,Vs[num])\n",
    "        alpha = tf.keras.layers.Flatten()(alpha)\n",
    "        alphas.append(alpha)\n",
    "    attention_output = tf.keras.layers.concatenate(alphas)\n",
    "    attention_output = tf.keras.layers.Dense(units=attention_output_dim)(attention_output)\n",
    "    x = tf.keras.layers.Flatten()(x)\n",
    "    x = tf.keras.layers.Dense(units=x.shape[-1])(x)\n",
    "    interact_layer_output = tf.keras.layers.Activation('relu')(tf.keras.layers.add([attention_output,x]))\n",
    "    return interact_layer_output"
   ]
  },
  {
   "cell_type": "markdown",
   "id": "dae09d56",
   "metadata": {},
   "source": [
    "# 一层AutoInt"
   ]
  },
  {
   "cell_type": "code",
   "execution_count": 15,
   "id": "5e04470c",
   "metadata": {},
   "outputs": [],
   "source": [
    "inputs = tf.keras.Input(shape=(train[feature].shape[-1],))\n",
    "x = tf.keras.layers.Embedding(2,4)(inputs)\n",
    "x = interacting_layer(x,4)\n",
    "output = tf.keras.layers.Dense(units=1,activation='sigmoid')(x)\n",
    "autoint = tf.keras.Model(inputs,output)"
   ]
  },
  {
   "cell_type": "code",
   "execution_count": 16,
   "id": "5969d9bf",
   "metadata": {},
   "outputs": [],
   "source": [
    "autoint.compile(optimizer=tf.keras.optimizers.Adam(1e-2),loss=tf.keras.losses.binary_crossentropy)"
   ]
  },
  {
   "cell_type": "code",
   "execution_count": null,
   "id": "af6d8e60",
   "metadata": {},
   "outputs": [
    {
     "name": "stdout",
     "output_type": "stream",
     "text": [
      "Epoch 1/20\n",
      "342/342 [==============================] - 306s 893ms/step - loss: 0.4092\n",
      "Epoch 2/20\n",
      " 15/342 [>.............................] - ETA: 4:46 - loss: 0.3469"
     ]
    }
   ],
   "source": [
    "autoint_his = autoint.fit(train[feature].values,train[label].values,batch_size=100,epochs=20)"
   ]
  },
  {
   "cell_type": "markdown",
   "id": "2c4eda24",
   "metadata": {},
   "source": [
    "# 两层AutoInt"
   ]
  },
  {
   "cell_type": "code",
   "execution_count": null,
   "id": "2d7adfc7",
   "metadata": {},
   "outputs": [],
   "source": [
    "inputs = tf.keras.Input(shape=(train[feature].shape[-1],))\n",
    "x = tf.keras.layers.Embedding(2,4)(inputs)\n",
    "x_dim,y_dim = x.shape[1],x.shape[-1]\n",
    "for i in range(1):\n",
    "    x = interacting_layer(x,4)\n",
    "    x = tf.keras.layers.Reshape((x_dim,y_dim))(x)\n",
    "x = interacting_layer(x,4)\n",
    "output = tf.keras.layers.Dense(units=1,activation='sigmoid')(x)\n",
    "autoint2 = tf.keras.Model(inputs,output)"
   ]
  },
  {
   "cell_type": "code",
   "execution_count": null,
   "id": "95c974c5",
   "metadata": {},
   "outputs": [],
   "source": [
    "autoint2.compile(optimizer=tf.keras.optimizers.Adam(1e-2),loss=tf.keras.losses.binary_crossentropy)\n",
    "autoint2_his = autoint2.fit(train[feature].values,train[label].values,batch_size=100,epochs=20)"
   ]
  },
  {
   "cell_type": "markdown",
   "id": "0a115022",
   "metadata": {},
   "source": [
    "# wide&AutoInt"
   ]
  },
  {
   "cell_type": "code",
   "execution_count": null,
   "id": "48309a72",
   "metadata": {},
   "outputs": [],
   "source": [
    "hot_col = [i for i in data.columns if i not in num_col+[label]]\n",
    "\n",
    "num_inputs = tf.keras.Input(shape=(train[num_col].shape[-1],))\n",
    "hot_inputs = tf.keras.Input(shape=(train[hot_col].shape[-1],))\n",
    "wide_output = tf.keras.layers.Dense(units=30)(num_inputs)\n",
    "x = tf.keras.layers.Embedding(2,4)(hot_inputs)\n",
    "autoint_output = interacting_layer(x,4)\n",
    "all_output = tf.keras.layers.concatenate([wide_output,autoint_output])\n",
    "output = tf.keras.layers.Dense(units=1,activation='sigmoid')(all_output)\n",
    "wide_autoint = tf.keras.Model([num_inputs,hot_inputs],output)"
   ]
  },
  {
   "cell_type": "code",
   "execution_count": null,
   "id": "ee1e1ee9",
   "metadata": {},
   "outputs": [],
   "source": [
    "wide_autoint.compile(optimizer=tf.keras.optimizers.Adam(1e-2),loss=tf.keras.losses.binary_crossentropy)\n",
    "wide_autoint_his = wide_autoint.fit([train[num_col].values,train[hot_col].values],train[label].values,batch_size=100,epochs=20)"
   ]
  },
  {
   "cell_type": "markdown",
   "id": "2eae4aa4",
   "metadata": {},
   "source": [
    "# 训练结果可视化"
   ]
  },
  {
   "cell_type": "code",
   "execution_count": null,
   "id": "1a84d66d",
   "metadata": {},
   "outputs": [],
   "source": [
    "plt.figure(dpi=200,figsize=(18,6))\n",
    "plt.plot(autoint_his.history['loss'],label='autoint_loss')\n",
    "plt.plot(autoint2_his.history['loss'],label='autoint2_loss')\n",
    "plt.plot(wide_autoint_his.history['loss'],label='wide_autoint_loss')\n",
    "plt.legend()\n",
    "plt.grid()"
   ]
  },
  {
   "cell_type": "markdown",
   "id": "9e3c5a84",
   "metadata": {},
   "source": [
    "# 推理"
   ]
  },
  {
   "cell_type": "code",
   "execution_count": null,
   "id": "f34175b1",
   "metadata": {},
   "outputs": [],
   "source": [
    "autoint_res = list(map(lambda x:1 if x>=0.5 else 0,autoint.predict(test[feature].values).reshape(1,-1)[0]))\n",
    "autoint2_res = list(map(lambda x:1 if x>=0.5 else 0,autoint2.predict(test[feature].values).reshape(1,-1)[0]))\n",
    "wide_autoint_res = list(map(lambda x:1 if x>=0.5 else 0,wide_autoint.predict([test[num_col].values,test[hot_col].values]).reshape(1,-1)[0]))"
   ]
  },
  {
   "cell_type": "code",
   "execution_count": null,
   "id": "1c2df17e",
   "metadata": {},
   "outputs": [],
   "source": [
    "print(classification_report(test['income_bracket'],autoint_res))\n",
    "print(classification_report(test['income_bracket'],autoint2_res))\n",
    "print(classification_report(test['income_bracket'],wide_autoint_res))"
   ]
  },
  {
   "cell_type": "code",
   "execution_count": null,
   "id": "19a7a066",
   "metadata": {},
   "outputs": [],
   "source": [
    "plt.figure(dpi=200,figsize=(20,4))\n",
    "plt.subplot(131)\n",
    "plt.title('autoint_res')\n",
    "sns.heatmap(confusion_matrix(test['income_bracket'],autoint_res),annot=True)\n",
    "plt.subplot(132)\n",
    "plt.title('autoint2_res')\n",
    "sns.heatmap(confusion_matrix(test['income_bracket'],autoint2_res),annot=True)\n",
    "plt.subplot(133)\n",
    "plt.title('wide_autoint_res')\n",
    "sns.heatmap(confusion_matrix(test['income_bracket'],wide_autoint_res),annot=True)"
   ]
  },
  {
   "cell_type": "code",
   "execution_count": null,
   "id": "9320e8ee",
   "metadata": {},
   "outputs": [],
   "source": []
  }
 ],
 "metadata": {
  "kernelspec": {
   "display_name": "Python [conda env:root]",
   "language": "python",
   "name": "conda-root-py"
  },
  "language_info": {
   "codemirror_mode": {
    "name": "ipython",
    "version": 3
   },
   "file_extension": ".py",
   "mimetype": "text/x-python",
   "name": "python",
   "nbconvert_exporter": "python",
   "pygments_lexer": "ipython3",
   "version": "3.9.5"
  }
 },
 "nbformat": 4,
 "nbformat_minor": 5
}
