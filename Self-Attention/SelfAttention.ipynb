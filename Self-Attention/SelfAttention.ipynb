{
 "cells": [
  {
   "cell_type": "code",
   "execution_count": 1,
   "id": "c213352f",
   "metadata": {},
   "outputs": [
    {
     "name": "stderr",
     "output_type": "stream",
     "text": [
      "C:\\Users\\gz\\miniconda3\\envs\\torch_gpu\\lib\\site-packages\\tqdm\\auto.py:22: TqdmWarning: IProgress not found. Please update jupyter and ipywidgets. See https://ipywidgets.readthedocs.io/en/stable/user_install.html\n",
      "  from .autonotebook import tqdm as notebook_tqdm\n"
     ]
    }
   ],
   "source": [
    "import torch\n",
    "from einops import rearrange\n",
    "from torch import nn"
   ]
  },
  {
   "cell_type": "code",
   "execution_count": 16,
   "id": "d2f2fb89",
   "metadata": {},
   "outputs": [],
   "source": [
    "class SelfAttention(nn.Module):\n",
    "    def __init__(self,in_dim,out_dim,dropout=0.1):\n",
    "        super().__init__()\n",
    "        self.w_qs=nn.Linear(in_dim,out_dim)\n",
    "        self.w_ks=nn.Linear(in_dim,out_dim)\n",
    "        self.w_vs=nn.Linear(in_dim,out_dim)\n",
    "        \n",
    "        self.fc=nn.Linear(out_dim,out_dim)\n",
    "        self.dropout=nn.Dropout(dropout)\n",
    "        self.layernorm=nn.LayerNorm(out_dim)\n",
    "    def forward(self,x):\n",
    "        dim=x.shape[-1]\n",
    "        residual=x\n",
    "        qs=self.w_qs(x)\n",
    "        ks=self.w_ks(x)\n",
    "        vs=self.w_vs(x)\n",
    "        \n",
    "        scaled_dot_prod=torch.einsum('b i w, b j w -> b i j', qs, ks)/(dim ** 0.5)\n",
    "        \n",
    "        score=torch.softmax(scaled_dot_prod,dim=-1)\n",
    "        \n",
    "        output=torch.einsum('b i w, b w j -> b i j', score, vs)\n",
    "        output=self.dropout(self.fc(output))\n",
    "        output=self.layernorm(output)\n",
    "        return output"
   ]
  },
  {
   "cell_type": "code",
   "execution_count": 18,
   "id": "3c09c524",
   "metadata": {},
   "outputs": [
    {
     "data": {
      "text/plain": [
       "tensor([[[-0.8917,  1.3964, -0.5047],\n",
       "         [-0.8896,  1.3968, -0.5072],\n",
       "         [-0.8916,  1.3964, -0.5048],\n",
       "         [-0.8906,  1.3966, -0.5060]]], grad_fn=<NativeLayerNormBackward0>)"
      ]
     },
     "execution_count": 18,
     "metadata": {},
     "output_type": "execute_result"
    }
   ],
   "source": [
    "#输入dim=3\n",
    "attention=SelfAttention(4,3)\n",
    "#假设输入x为1x4x4矩阵（共4个token）\n",
    "x = torch.rand(1,4,4)\n",
    "attention(x)"
   ]
  },
  {
   "cell_type": "code",
   "execution_count": null,
   "id": "1c2d92d5",
   "metadata": {},
   "outputs": [],
   "source": []
  }
 ],
 "metadata": {
  "kernelspec": {
   "display_name": "Python [conda env:torch_gpu]",
   "language": "python",
   "name": "conda-env-torch_gpu-py"
  },
  "language_info": {
   "codemirror_mode": {
    "name": "ipython",
    "version": 3
   },
   "file_extension": ".py",
   "mimetype": "text/x-python",
   "name": "python",
   "nbconvert_exporter": "python",
   "pygments_lexer": "ipython3",
   "version": "3.8.13"
  }
 },
 "nbformat": 4,
 "nbformat_minor": 5
}
